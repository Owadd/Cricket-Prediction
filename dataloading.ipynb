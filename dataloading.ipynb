{
 "cells": [
  {
   "cell_type": "code",
   "execution_count": 1,
   "metadata": {},
   "outputs": [],
   "source": [
    "import polars as pl\n",
    "import pandas as pd\n",
    "import matplotlib.pyplot as plt"
   ]
  },
  {
   "cell_type": "code",
   "execution_count": 25,
   "metadata": {},
   "outputs": [
    {
     "data": {
      "text/html": [
       "<div><style>\n",
       ".dataframe > thead > tr,\n",
       ".dataframe > tbody > tr {\n",
       "  text-align: right;\n",
       "  white-space: pre-wrap;\n",
       "}\n",
       "</style>\n",
       "<small>shape: (3, 65)</small><table border=\"1\" class=\"dataframe\"><thead><tr><th>column</th><th>balls_per_over</th><th>team</th><th>team</th><th>gender</th><th>season</th><th>date</th><th>event</th><th>match_number</th><th>venue</th><th>city</th><th>toss_winner</th><th>toss_decision</th><th>player_of_match</th><th>umpire</th><th>umpire</th><th>winner</th><th>winner_runs</th><th>player</th><th>player</th><th>player</th><th>player</th><th>player</th><th>player</th><th>player</th><th>player</th><th>player</th><th>player</th><th>player</th><th>player</th><th>player</th><th>player</th><th>player</th><th>player</th><th>player</th><th>player</th><th>player</th><th>player</th><th>player</th><th>player</th><th>registry</th><th>registry</th><th>registry</th><th>registry</th><th>registry</th><th>registry</th><th>registry</th><th>registry</th><th>registry</th><th>registry</th><th>registry</th><th>registry</th><th>registry</th><th>registry</th><th>registry</th><th>registry</th><th>registry</th><th>registry</th><th>registry</th><th>registry</th><th>registry</th><th>registry</th><th>registry</th><th>registry</th><th>registry</th></tr><tr><td>str</td><td>str</td><td>str</td><td>str</td><td>str</td><td>str</td><td>str</td><td>str</td><td>str</td><td>str</td><td>str</td><td>str</td><td>str</td><td>str</td><td>str</td><td>str</td><td>str</td><td>str</td><td>str</td><td>str</td><td>str</td><td>str</td><td>str</td><td>str</td><td>str</td><td>str</td><td>str</td><td>str</td><td>str</td><td>str</td><td>str</td><td>str</td><td>str</td><td>str</td><td>str</td><td>str</td><td>str</td><td>str</td><td>str</td><td>str</td><td>str</td><td>str</td><td>str</td><td>str</td><td>str</td><td>str</td><td>str</td><td>str</td><td>str</td><td>str</td><td>str</td><td>str</td><td>str</td><td>str</td><td>str</td><td>str</td><td>str</td><td>str</td><td>str</td><td>str</td><td>str</td><td>str</td><td>str</td><td>str</td><td>str</td></tr></thead><tbody><tr><td>&quot;values&quot;</td><td>&quot;6&quot;</td><td>&quot;Kenya&quot;</td><td>&quot;Rwanda&quot;</td><td>&quot;male&quot;</td><td>&quot;2024&quot;</td><td>&quot;2024/07/05&quot;</td><td>&quot;Twenty20 Quadrangular (in Keny…</td><td>&quot;14&quot;</td><td>&quot;Sikh Union Club Ground, Nairob…</td><td>&quot;Nairobi&quot;</td><td>&quot;Kenya&quot;</td><td>&quot;bat&quot;</td><td>&quot;RR Patel&quot;</td><td>&quot;Asgarali Kassam&quot;</td><td>&quot;D Odhiambo&quot;</td><td>&quot;Kenya&quot;</td><td>&quot;49&quot;</td><td>&quot;Kenya&quot;</td><td>&quot;Kenya&quot;</td><td>&quot;Kenya&quot;</td><td>&quot;Kenya&quot;</td><td>&quot;Kenya&quot;</td><td>&quot;Kenya&quot;</td><td>&quot;Kenya&quot;</td><td>&quot;Kenya&quot;</td><td>&quot;Kenya&quot;</td><td>&quot;Kenya&quot;</td><td>&quot;Kenya&quot;</td><td>&quot;Rwanda&quot;</td><td>&quot;Rwanda&quot;</td><td>&quot;Rwanda&quot;</td><td>&quot;Rwanda&quot;</td><td>&quot;Rwanda&quot;</td><td>&quot;Rwanda&quot;</td><td>&quot;Rwanda&quot;</td><td>&quot;Rwanda&quot;</td><td>&quot;Rwanda&quot;</td><td>&quot;Rwanda&quot;</td><td>&quot;Rwanda&quot;</td><td>&quot;people&quot;</td><td>&quot;people&quot;</td><td>&quot;people&quot;</td><td>&quot;people&quot;</td><td>&quot;people&quot;</td><td>&quot;people&quot;</td><td>&quot;people&quot;</td><td>&quot;people&quot;</td><td>&quot;people&quot;</td><td>&quot;people&quot;</td><td>&quot;people&quot;</td><td>&quot;people&quot;</td><td>&quot;people&quot;</td><td>&quot;people&quot;</td><td>&quot;people&quot;</td><td>&quot;people&quot;</td><td>&quot;people&quot;</td><td>&quot;people&quot;</td><td>&quot;people&quot;</td><td>&quot;people&quot;</td><td>&quot;people&quot;</td><td>&quot;people&quot;</td><td>&quot;people&quot;</td><td>&quot;people&quot;</td><td>&quot;people&quot;</td></tr><tr><td>&quot;players&quot;</td><td>null</td><td>null</td><td>null</td><td>null</td><td>null</td><td>null</td><td>null</td><td>null</td><td>null</td><td>null</td><td>null</td><td>null</td><td>null</td><td>null</td><td>null</td><td>null</td><td>null</td><td>&quot;RN Patel&quot;</td><td>&quot;Tanzeel Sheikh&quot;</td><td>&quot;N Mugabe&quot;</td><td>&quot;RR Patel&quot;</td><td>&quot;S Singh&quot;</td><td>&quot;SO Ngoche&quot;</td><td>&quot;JS Kundi&quot;</td><td>&quot;LN Oluoch&quot;</td><td>&quot;Vraj Patel&quot;</td><td>&quot;F Mutua&quot;</td><td>&quot;GM Muthui&quot;</td><td>&quot;D Ndikubwimana&quot;</td><td>&quot;O Manishimwe&quot;</td><td>&quot;Hamza Khan&quot;</td><td>&quot;O Tuyisenge&quot;</td><td>&quot;Yves Cyusa&quot;</td><td>&quot;M Akayezu&quot;</td><td>&quot;C Rububagumya&quot;</td><td>&quot;E Kubwimana&quot;</td><td>&quot;Muhammad Nadir&quot;</td><td>&quot;E Rukiriza&quot;</td><td>&quot;Z Bimenyimana&quot;</td><td>&quot;Asgarali Kassam&quot;</td><td>&quot;C Rububagumya&quot;</td><td>&quot;D Ndikubwimana&quot;</td><td>&quot;D Odhiambo&quot;</td><td>&quot;E Kubwimana&quot;</td><td>&quot;E Rukiriza&quot;</td><td>&quot;E Sebareme&quot;</td><td>&quot;F Mutua&quot;</td><td>&quot;GM Muthui&quot;</td><td>&quot;Hamza Khan&quot;</td><td>&quot;JS Kundi&quot;</td><td>&quot;LN Oluoch&quot;</td><td>&quot;M Akayezu&quot;</td><td>&quot;Muhammad Nadir&quot;</td><td>&quot;N Mugabe&quot;</td><td>&quot;O Manishimwe&quot;</td><td>&quot;O Tuyisenge&quot;</td><td>&quot;RN Patel&quot;</td><td>&quot;RR Patel&quot;</td><td>&quot;S Singh&quot;</td><td>&quot;SO Ngoche&quot;</td><td>&quot;Tanzeel Sheikh&quot;</td><td>&quot;Vraj Patel&quot;</td><td>&quot;Yves Cyusa&quot;</td><td>&quot;Z Bimenyimana&quot;</td></tr><tr><td>&quot;code&quot;</td><td>null</td><td>null</td><td>null</td><td>null</td><td>null</td><td>null</td><td>null</td><td>null</td><td>null</td><td>null</td><td>null</td><td>null</td><td>null</td><td>null</td><td>null</td><td>null</td><td>null</td><td>null</td><td>null</td><td>null</td><td>null</td><td>null</td><td>null</td><td>null</td><td>null</td><td>null</td><td>null</td><td>null</td><td>null</td><td>null</td><td>null</td><td>null</td><td>null</td><td>null</td><td>null</td><td>null</td><td>null</td><td>null</td><td>null</td><td>&quot;88aaf2d7&quot;</td><td>&quot;8088632c&quot;</td><td>&quot;3cbedf51&quot;</td><td>&quot;45994517&quot;</td><td>&quot;bfc7799f&quot;</td><td>&quot;3ac13a94&quot;</td><td>&quot;f99a219a&quot;</td><td>&quot;21b67523&quot;</td><td>&quot;d7e51f87&quot;</td><td>&quot;44a5f2b2&quot;</td><td>&quot;092ccf20&quot;</td><td>&quot;eb4f9c61&quot;</td><td>&quot;1f3b9f8d&quot;</td><td>&quot;090f96e4&quot;</td><td>&quot;3e28808e&quot;</td><td>&quot;fb31ca49&quot;</td><td>&quot;e6a6888f&quot;</td><td>&quot;db1bf9c2&quot;</td><td>&quot;7fa6bd8e&quot;</td><td>&quot;612a395c&quot;</td><td>&quot;49118dc7&quot;</td><td>&quot;5493ad5c&quot;</td><td>&quot;2af28253&quot;</td><td>&quot;b5aa28ce&quot;</td><td>&quot;ba57fb08&quot;</td></tr></tbody></table></div>"
      ],
      "text/plain": [
       "shape: (3, 65)\n",
       "┌─────────┬───────────────┬───────┬────────┬───┬──────────┬────────────┬────────────┬──────────────┐\n",
       "│ column  ┆ balls_per_ove ┆ team  ┆ team   ┆ … ┆ registry ┆ registry   ┆ registry   ┆ registry     │\n",
       "│ ---     ┆ r             ┆ ---   ┆ ---    ┆   ┆ ---      ┆ ---        ┆ ---        ┆ ---          │\n",
       "│ str     ┆ ---           ┆ str   ┆ str    ┆   ┆ str      ┆ str        ┆ str        ┆ str          │\n",
       "│         ┆ str           ┆       ┆        ┆   ┆          ┆            ┆            ┆              │\n",
       "╞═════════╪═══════════════╪═══════╪════════╪═══╪══════════╪════════════╪════════════╪══════════════╡\n",
       "│ values  ┆ 6             ┆ Kenya ┆ Rwanda ┆ … ┆ people   ┆ people     ┆ people     ┆ people       │\n",
       "│ players ┆ null          ┆ null  ┆ null   ┆ … ┆ Tanzeel  ┆ Vraj Patel ┆ Yves Cyusa ┆ Z            │\n",
       "│         ┆               ┆       ┆        ┆   ┆ Sheikh   ┆            ┆            ┆ Bimenyimana  │\n",
       "│ code    ┆ null          ┆ null  ┆ null   ┆ … ┆ 5493ad5c ┆ 2af28253   ┆ b5aa28ce   ┆ ba57fb08     │\n",
       "└─────────┴───────────────┴───────┴────────┴───┴──────────┴────────────┴────────────┴──────────────┘"
      ]
     },
     "execution_count": 25,
     "metadata": {},
     "output_type": "execute_result"
    }
   ],
   "source": [
    "import pandas as pd\n",
    "\n",
    "# Path to the CSV file\n",
    "csv_file_path = 't20s_csv2/1441145_info.csv'\n",
    "\n",
    "# Read the CSV file, handle quotes and ignore bad lines\n",
    "df = pl.read_csv(csv_file_path, schema={'col1':pl.String,'attributes':pl.String,'values':pl.String,'players':pl.String,'code':pl.String}).drop('col1')\n",
    "\n",
    "# Display the DataFrame\n",
    "df.transpose(include_header=True,column_names=\"attributes\")"
   ]
  },
  {
   "cell_type": "code",
   "execution_count": null,
   "metadata": {},
   "outputs": [],
   "source": []
  }
 ],
 "metadata": {
  "kernelspec": {
   "display_name": "eda",
   "language": "python",
   "name": "python3"
  },
  "language_info": {
   "codemirror_mode": {
    "name": "ipython",
    "version": 3
   },
   "file_extension": ".py",
   "mimetype": "text/x-python",
   "name": "python",
   "nbconvert_exporter": "python",
   "pygments_lexer": "ipython3",
   "version": "3.8.19"
  }
 },
 "nbformat": 4,
 "nbformat_minor": 2
}
