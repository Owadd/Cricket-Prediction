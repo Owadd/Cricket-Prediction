{
 "cells": [
  {
   "cell_type": "code",
   "execution_count": 1,
   "metadata": {},
   "outputs": [],
   "source": [
    "import polars as pl\n",
    "import pandas as pd\n",
    "import matplotlib.pyplot as plt"
   ]
  },
  {
   "cell_type": "code",
   "execution_count": 26,
   "metadata": {},
   "outputs": [
    {
     "data": {
      "text/html": [
       "<div><style>\n",
       ".dataframe > thead > tr,\n",
       ".dataframe > tbody > tr {\n",
       "  text-align: right;\n",
       "  white-space: pre-wrap;\n",
       "}\n",
       "</style>\n",
       "<small>shape: (64, 4)</small><table border=\"1\" class=\"dataframe\"><thead><tr><th>attributes</th><th>values</th><th>players</th><th>code</th></tr><tr><td>str</td><td>str</td><td>str</td><td>str</td></tr></thead><tbody><tr><td>&quot;balls_per_over&quot;</td><td>&quot;6&quot;</td><td>null</td><td>null</td></tr><tr><td>&quot;team&quot;</td><td>&quot;Kenya&quot;</td><td>null</td><td>null</td></tr><tr><td>&quot;team&quot;</td><td>&quot;Rwanda&quot;</td><td>null</td><td>null</td></tr><tr><td>&quot;gender&quot;</td><td>&quot;male&quot;</td><td>null</td><td>null</td></tr><tr><td>&quot;season&quot;</td><td>&quot;2024&quot;</td><td>null</td><td>null</td></tr><tr><td>&hellip;</td><td>&hellip;</td><td>&hellip;</td><td>&hellip;</td></tr><tr><td>&quot;registry&quot;</td><td>&quot;people&quot;</td><td>&quot;SO Ngoche&quot;</td><td>&quot;49118dc7&quot;</td></tr><tr><td>&quot;registry&quot;</td><td>&quot;people&quot;</td><td>&quot;Tanzeel Sheikh&quot;</td><td>&quot;5493ad5c&quot;</td></tr><tr><td>&quot;registry&quot;</td><td>&quot;people&quot;</td><td>&quot;Vraj Patel&quot;</td><td>&quot;2af28253&quot;</td></tr><tr><td>&quot;registry&quot;</td><td>&quot;people&quot;</td><td>&quot;Yves Cyusa&quot;</td><td>&quot;b5aa28ce&quot;</td></tr><tr><td>&quot;registry&quot;</td><td>&quot;people&quot;</td><td>&quot;Z Bimenyimana&quot;</td><td>&quot;ba57fb08&quot;</td></tr></tbody></table></div>"
      ],
      "text/plain": [
       "shape: (64, 4)\n",
       "┌────────────────┬────────┬────────────────┬──────────┐\n",
       "│ attributes     ┆ values ┆ players        ┆ code     │\n",
       "│ ---            ┆ ---    ┆ ---            ┆ ---      │\n",
       "│ str            ┆ str    ┆ str            ┆ str      │\n",
       "╞════════════════╪════════╪════════════════╪══════════╡\n",
       "│ balls_per_over ┆ 6      ┆ null           ┆ null     │\n",
       "│ team           ┆ Kenya  ┆ null           ┆ null     │\n",
       "│ team           ┆ Rwanda ┆ null           ┆ null     │\n",
       "│ gender         ┆ male   ┆ null           ┆ null     │\n",
       "│ season         ┆ 2024   ┆ null           ┆ null     │\n",
       "│ …              ┆ …      ┆ …              ┆ …        │\n",
       "│ registry       ┆ people ┆ SO Ngoche      ┆ 49118dc7 │\n",
       "│ registry       ┆ people ┆ Tanzeel Sheikh ┆ 5493ad5c │\n",
       "│ registry       ┆ people ┆ Vraj Patel     ┆ 2af28253 │\n",
       "│ registry       ┆ people ┆ Yves Cyusa     ┆ b5aa28ce │\n",
       "│ registry       ┆ people ┆ Z Bimenyimana  ┆ ba57fb08 │\n",
       "└────────────────┴────────┴────────────────┴──────────┘"
      ]
     },
     "execution_count": 26,
     "metadata": {},
     "output_type": "execute_result"
    }
   ],
   "source": [
    "import pandas as pd\n",
    "\n",
    "# Path to the CSV file\n",
    "csv_file_path = 't20s_csv2/1441145_info.csv'\n",
    "\n",
    "# Read the CSV file, handle quotes and ignore bad lines\n",
    "df = pl.read_csv(csv_file_path, schema={'col1':pl.String,'attributes':pl.String,'values':pl.String,'players':pl.String,'code':pl.String}).drop('col1')\n",
    "\n",
    "# Display the DataFrame\n",
    "df"
   ]
  },
  {
   "cell_type": "code",
   "execution_count": null,
   "metadata": {},
   "outputs": [],
   "source": []
  }
 ],
 "metadata": {
  "kernelspec": {
   "display_name": "eda",
   "language": "python",
   "name": "python3"
  },
  "language_info": {
   "codemirror_mode": {
    "name": "ipython",
    "version": 3
   },
   "file_extension": ".py",
   "mimetype": "text/x-python",
   "name": "python",
   "nbconvert_exporter": "python",
   "pygments_lexer": "ipython3",
   "version": "3.8.19"
  }
 },
 "nbformat": 4,
 "nbformat_minor": 2
}
