{
 "cells": [
  {
   "cell_type": "code",
   "execution_count": 1,
   "metadata": {},
   "outputs": [],
   "source": [
    "import polars as pl\n",
    "import pandas as pd\n",
    "import matplotlib.pyplot as plt"
   ]
  },
  {
   "cell_type": "code",
   "execution_count": 2,
   "metadata": {},
   "outputs": [
    {
     "data": {
      "text/html": [
       "<div><style>\n",
       ".dataframe > thead > tr,\n",
       ".dataframe > tbody > tr {\n",
       "  text-align: right;\n",
       "  white-space: pre-wrap;\n",
       "}\n",
       "</style>\n",
       "<small>shape: (1_095, 20)</small><table border=\"1\" class=\"dataframe\"><thead><tr><th>id</th><th>season</th><th>city</th><th>date</th><th>match_type</th><th>player_of_match</th><th>venue</th><th>team1</th><th>team2</th><th>toss_winner</th><th>toss_decision</th><th>winner</th><th>result</th><th>result_margin</th><th>target_runs</th><th>target_overs</th><th>super_over</th><th>method</th><th>umpire1</th><th>umpire2</th></tr><tr><td>i64</td><td>str</td><td>str</td><td>str</td><td>str</td><td>str</td><td>str</td><td>str</td><td>str</td><td>str</td><td>str</td><td>str</td><td>str</td><td>i64</td><td>i64</td><td>f64</td><td>str</td><td>str</td><td>str</td><td>str</td></tr></thead><tbody><tr><td>335982</td><td>&quot;2007/08&quot;</td><td>&quot;Bangalore&quot;</td><td>&quot;2008-04-18&quot;</td><td>&quot;League&quot;</td><td>&quot;BB McCullum&quot;</td><td>&quot;M Chinnaswamy Stadium&quot;</td><td>&quot;Royal Challengers Bangalore&quot;</td><td>&quot;Kolkata Knight Riders&quot;</td><td>&quot;Royal Challengers Bangalore&quot;</td><td>&quot;field&quot;</td><td>&quot;Kolkata Knight Riders&quot;</td><td>&quot;runs&quot;</td><td>140</td><td>223</td><td>20.0</td><td>&quot;N&quot;</td><td>null</td><td>&quot;Asad Rauf&quot;</td><td>&quot;RE Koertzen&quot;</td></tr><tr><td>335983</td><td>&quot;2007/08&quot;</td><td>&quot;Chandigarh&quot;</td><td>&quot;2008-04-19&quot;</td><td>&quot;League&quot;</td><td>&quot;MEK Hussey&quot;</td><td>&quot;Punjab Cricket Association Sta…</td><td>&quot;Kings XI Punjab&quot;</td><td>&quot;Chennai Super Kings&quot;</td><td>&quot;Chennai Super Kings&quot;</td><td>&quot;bat&quot;</td><td>&quot;Chennai Super Kings&quot;</td><td>&quot;runs&quot;</td><td>33</td><td>241</td><td>20.0</td><td>&quot;N&quot;</td><td>null</td><td>&quot;MR Benson&quot;</td><td>&quot;SL Shastri&quot;</td></tr><tr><td>335984</td><td>&quot;2007/08&quot;</td><td>&quot;Delhi&quot;</td><td>&quot;2008-04-19&quot;</td><td>&quot;League&quot;</td><td>&quot;MF Maharoof&quot;</td><td>&quot;Feroz Shah Kotla&quot;</td><td>&quot;Delhi Daredevils&quot;</td><td>&quot;Rajasthan Royals&quot;</td><td>&quot;Rajasthan Royals&quot;</td><td>&quot;bat&quot;</td><td>&quot;Delhi Daredevils&quot;</td><td>&quot;wickets&quot;</td><td>9</td><td>130</td><td>20.0</td><td>&quot;N&quot;</td><td>null</td><td>&quot;Aleem Dar&quot;</td><td>&quot;GA Pratapkumar&quot;</td></tr><tr><td>335985</td><td>&quot;2007/08&quot;</td><td>&quot;Mumbai&quot;</td><td>&quot;2008-04-20&quot;</td><td>&quot;League&quot;</td><td>&quot;MV Boucher&quot;</td><td>&quot;Wankhede Stadium&quot;</td><td>&quot;Mumbai Indians&quot;</td><td>&quot;Royal Challengers Bangalore&quot;</td><td>&quot;Mumbai Indians&quot;</td><td>&quot;bat&quot;</td><td>&quot;Royal Challengers Bangalore&quot;</td><td>&quot;wickets&quot;</td><td>5</td><td>166</td><td>20.0</td><td>&quot;N&quot;</td><td>null</td><td>&quot;SJ Davis&quot;</td><td>&quot;DJ Harper&quot;</td></tr><tr><td>335986</td><td>&quot;2007/08&quot;</td><td>&quot;Kolkata&quot;</td><td>&quot;2008-04-20&quot;</td><td>&quot;League&quot;</td><td>&quot;DJ Hussey&quot;</td><td>&quot;Eden Gardens&quot;</td><td>&quot;Kolkata Knight Riders&quot;</td><td>&quot;Deccan Chargers&quot;</td><td>&quot;Deccan Chargers&quot;</td><td>&quot;bat&quot;</td><td>&quot;Kolkata Knight Riders&quot;</td><td>&quot;wickets&quot;</td><td>5</td><td>111</td><td>20.0</td><td>&quot;N&quot;</td><td>null</td><td>&quot;BF Bowden&quot;</td><td>&quot;K Hariharan&quot;</td></tr><tr><td>&hellip;</td><td>&hellip;</td><td>&hellip;</td><td>&hellip;</td><td>&hellip;</td><td>&hellip;</td><td>&hellip;</td><td>&hellip;</td><td>&hellip;</td><td>&hellip;</td><td>&hellip;</td><td>&hellip;</td><td>&hellip;</td><td>&hellip;</td><td>&hellip;</td><td>&hellip;</td><td>&hellip;</td><td>&hellip;</td><td>&hellip;</td><td>&hellip;</td></tr><tr><td>1426307</td><td>&quot;2024&quot;</td><td>&quot;Hyderabad&quot;</td><td>&quot;2024-05-19&quot;</td><td>&quot;League&quot;</td><td>&quot;Abhishek Sharma&quot;</td><td>&quot;Rajiv Gandhi International Sta…</td><td>&quot;Punjab Kings&quot;</td><td>&quot;Sunrisers Hyderabad&quot;</td><td>&quot;Punjab Kings&quot;</td><td>&quot;bat&quot;</td><td>&quot;Sunrisers Hyderabad&quot;</td><td>&quot;wickets&quot;</td><td>4</td><td>215</td><td>20.0</td><td>&quot;N&quot;</td><td>null</td><td>&quot;Nitin Menon&quot;</td><td>&quot;VK Sharma&quot;</td></tr><tr><td>1426309</td><td>&quot;2024&quot;</td><td>&quot;Ahmedabad&quot;</td><td>&quot;2024-05-21&quot;</td><td>&quot;Qualifier 1&quot;</td><td>&quot;MA Starc&quot;</td><td>&quot;Narendra Modi Stadium, Ahmedab…</td><td>&quot;Sunrisers Hyderabad&quot;</td><td>&quot;Kolkata Knight Riders&quot;</td><td>&quot;Sunrisers Hyderabad&quot;</td><td>&quot;bat&quot;</td><td>&quot;Kolkata Knight Riders&quot;</td><td>&quot;wickets&quot;</td><td>8</td><td>160</td><td>20.0</td><td>&quot;N&quot;</td><td>null</td><td>&quot;AK Chaudhary&quot;</td><td>&quot;R Pandit&quot;</td></tr><tr><td>1426310</td><td>&quot;2024&quot;</td><td>&quot;Ahmedabad&quot;</td><td>&quot;2024-05-22&quot;</td><td>&quot;Eliminator&quot;</td><td>&quot;R Ashwin&quot;</td><td>&quot;Narendra Modi Stadium, Ahmedab…</td><td>&quot;Royal Challengers Bengaluru&quot;</td><td>&quot;Rajasthan Royals&quot;</td><td>&quot;Rajasthan Royals&quot;</td><td>&quot;field&quot;</td><td>&quot;Rajasthan Royals&quot;</td><td>&quot;wickets&quot;</td><td>4</td><td>173</td><td>20.0</td><td>&quot;N&quot;</td><td>null</td><td>&quot;KN Ananthapadmanabhan&quot;</td><td>&quot;MV Saidharshan Kumar&quot;</td></tr><tr><td>1426311</td><td>&quot;2024&quot;</td><td>&quot;Chennai&quot;</td><td>&quot;2024-05-24&quot;</td><td>&quot;Qualifier 2&quot;</td><td>&quot;Shahbaz Ahmed&quot;</td><td>&quot;MA Chidambaram Stadium, Chepau…</td><td>&quot;Sunrisers Hyderabad&quot;</td><td>&quot;Rajasthan Royals&quot;</td><td>&quot;Rajasthan Royals&quot;</td><td>&quot;field&quot;</td><td>&quot;Sunrisers Hyderabad&quot;</td><td>&quot;runs&quot;</td><td>36</td><td>176</td><td>20.0</td><td>&quot;N&quot;</td><td>null</td><td>&quot;Nitin Menon&quot;</td><td>&quot;VK Sharma&quot;</td></tr><tr><td>1426312</td><td>&quot;2024&quot;</td><td>&quot;Chennai&quot;</td><td>&quot;2024-05-26&quot;</td><td>&quot;Final&quot;</td><td>&quot;MA Starc&quot;</td><td>&quot;MA Chidambaram Stadium, Chepau…</td><td>&quot;Sunrisers Hyderabad&quot;</td><td>&quot;Kolkata Knight Riders&quot;</td><td>&quot;Sunrisers Hyderabad&quot;</td><td>&quot;bat&quot;</td><td>&quot;Kolkata Knight Riders&quot;</td><td>&quot;wickets&quot;</td><td>8</td><td>114</td><td>20.0</td><td>&quot;N&quot;</td><td>null</td><td>&quot;J Madanagopal&quot;</td><td>&quot;Nitin Menon&quot;</td></tr></tbody></table></div>"
      ],
      "text/plain": [
       "shape: (1_095, 20)\n",
       "┌─────────┬─────────┬────────────┬────────────┬───┬────────────┬────────┬─────────────┬────────────┐\n",
       "│ id      ┆ season  ┆ city       ┆ date       ┆ … ┆ super_over ┆ method ┆ umpire1     ┆ umpire2    │\n",
       "│ ---     ┆ ---     ┆ ---        ┆ ---        ┆   ┆ ---        ┆ ---    ┆ ---         ┆ ---        │\n",
       "│ i64     ┆ str     ┆ str        ┆ str        ┆   ┆ str        ┆ str    ┆ str         ┆ str        │\n",
       "╞═════════╪═════════╪════════════╪════════════╪═══╪════════════╪════════╪═════════════╪════════════╡\n",
       "│ 335982  ┆ 2007/08 ┆ Bangalore  ┆ 2008-04-18 ┆ … ┆ N          ┆ null   ┆ Asad Rauf   ┆ RE         │\n",
       "│         ┆         ┆            ┆            ┆   ┆            ┆        ┆             ┆ Koertzen   │\n",
       "│ 335983  ┆ 2007/08 ┆ Chandigarh ┆ 2008-04-19 ┆ … ┆ N          ┆ null   ┆ MR Benson   ┆ SL Shastri │\n",
       "│ 335984  ┆ 2007/08 ┆ Delhi      ┆ 2008-04-19 ┆ … ┆ N          ┆ null   ┆ Aleem Dar   ┆ GA Pratapk │\n",
       "│         ┆         ┆            ┆            ┆   ┆            ┆        ┆             ┆ umar       │\n",
       "│ 335985  ┆ 2007/08 ┆ Mumbai     ┆ 2008-04-20 ┆ … ┆ N          ┆ null   ┆ SJ Davis    ┆ DJ Harper  │\n",
       "│ 335986  ┆ 2007/08 ┆ Kolkata    ┆ 2008-04-20 ┆ … ┆ N          ┆ null   ┆ BF Bowden   ┆ K          │\n",
       "│         ┆         ┆            ┆            ┆   ┆            ┆        ┆             ┆ Hariharan  │\n",
       "│ …       ┆ …       ┆ …          ┆ …          ┆ … ┆ …          ┆ …      ┆ …           ┆ …          │\n",
       "│ 1426307 ┆ 2024    ┆ Hyderabad  ┆ 2024-05-19 ┆ … ┆ N          ┆ null   ┆ Nitin Menon ┆ VK Sharma  │\n",
       "│ 1426309 ┆ 2024    ┆ Ahmedabad  ┆ 2024-05-21 ┆ … ┆ N          ┆ null   ┆ AK          ┆ R Pandit   │\n",
       "│         ┆         ┆            ┆            ┆   ┆            ┆        ┆ Chaudhary   ┆            │\n",
       "│ 1426310 ┆ 2024    ┆ Ahmedabad  ┆ 2024-05-22 ┆ … ┆ N          ┆ null   ┆ KN Ananthap ┆ MV Saidhar │\n",
       "│         ┆         ┆            ┆            ┆   ┆            ┆        ┆ admanabhan  ┆ shan Kumar │\n",
       "│ 1426311 ┆ 2024    ┆ Chennai    ┆ 2024-05-24 ┆ … ┆ N          ┆ null   ┆ Nitin Menon ┆ VK Sharma  │\n",
       "│ 1426312 ┆ 2024    ┆ Chennai    ┆ 2024-05-26 ┆ … ┆ N          ┆ null   ┆ J           ┆ Nitin      │\n",
       "│         ┆         ┆            ┆            ┆   ┆            ┆        ┆ Madanagopal ┆ Menon      │\n",
       "└─────────┴─────────┴────────────┴────────────┴───┴────────────┴────────┴─────────────┴────────────┘"
      ]
     },
     "execution_count": 2,
     "metadata": {},
     "output_type": "execute_result"
    }
   ],
   "source": [
    "matches = pl.read_csv('./data/matches.csv',null_values=\"NA\")\n",
    "matches"
   ]
  },
  {
   "cell_type": "code",
   "execution_count": 3,
   "metadata": {},
   "outputs": [
    {
     "data": {
      "text/html": [
       "<div><style>\n",
       ".dataframe > thead > tr,\n",
       ".dataframe > tbody > tr {\n",
       "  text-align: right;\n",
       "  white-space: pre-wrap;\n",
       "}\n",
       "</style>\n",
       "<small>shape: (9, 21)</small><table border=\"1\" class=\"dataframe\"><thead><tr><th>statistic</th><th>id</th><th>season</th><th>city</th><th>date</th><th>match_type</th><th>player_of_match</th><th>venue</th><th>team1</th><th>team2</th><th>toss_winner</th><th>toss_decision</th><th>winner</th><th>result</th><th>result_margin</th><th>target_runs</th><th>target_overs</th><th>super_over</th><th>method</th><th>umpire1</th><th>umpire2</th></tr><tr><td>str</td><td>f64</td><td>str</td><td>str</td><td>str</td><td>str</td><td>str</td><td>str</td><td>str</td><td>str</td><td>str</td><td>str</td><td>str</td><td>str</td><td>f64</td><td>f64</td><td>f64</td><td>str</td><td>str</td><td>str</td><td>str</td></tr></thead><tbody><tr><td>&quot;count&quot;</td><td>1095.0</td><td>&quot;1095&quot;</td><td>&quot;1044&quot;</td><td>&quot;1095&quot;</td><td>&quot;1095&quot;</td><td>&quot;1090&quot;</td><td>&quot;1095&quot;</td><td>&quot;1095&quot;</td><td>&quot;1095&quot;</td><td>&quot;1095&quot;</td><td>&quot;1095&quot;</td><td>&quot;1090&quot;</td><td>&quot;1095&quot;</td><td>1076.0</td><td>1092.0</td><td>1092.0</td><td>&quot;1095&quot;</td><td>&quot;21&quot;</td><td>&quot;1095&quot;</td><td>&quot;1095&quot;</td></tr><tr><td>&quot;null_count&quot;</td><td>0.0</td><td>&quot;0&quot;</td><td>&quot;51&quot;</td><td>&quot;0&quot;</td><td>&quot;0&quot;</td><td>&quot;5&quot;</td><td>&quot;0&quot;</td><td>&quot;0&quot;</td><td>&quot;0&quot;</td><td>&quot;0&quot;</td><td>&quot;0&quot;</td><td>&quot;5&quot;</td><td>&quot;0&quot;</td><td>19.0</td><td>3.0</td><td>3.0</td><td>&quot;0&quot;</td><td>&quot;1074&quot;</td><td>&quot;0&quot;</td><td>&quot;0&quot;</td></tr><tr><td>&quot;mean&quot;</td><td>904828.319635</td><td>null</td><td>null</td><td>null</td><td>null</td><td>null</td><td>null</td><td>null</td><td>null</td><td>null</td><td>null</td><td>null</td><td>null</td><td>17.259294</td><td>165.684066</td><td>19.759341</td><td>null</td><td>null</td><td>null</td><td>null</td></tr><tr><td>&quot;std&quot;</td><td>367740.242299</td><td>null</td><td>null</td><td>null</td><td>null</td><td>null</td><td>null</td><td>null</td><td>null</td><td>null</td><td>null</td><td>null</td><td>null</td><td>21.787444</td><td>33.427048</td><td>1.581108</td><td>null</td><td>null</td><td>null</td><td>null</td></tr><tr><td>&quot;min&quot;</td><td>335982.0</td><td>&quot;2007/08&quot;</td><td>&quot;Abu Dhabi&quot;</td><td>&quot;2008-04-18&quot;</td><td>&quot;3rd Place Play-Off&quot;</td><td>&quot;A Chandila&quot;</td><td>&quot;Arun Jaitley Stadium&quot;</td><td>&quot;Chennai Super Kings&quot;</td><td>&quot;Chennai Super Kings&quot;</td><td>&quot;Chennai Super Kings&quot;</td><td>&quot;bat&quot;</td><td>&quot;Chennai Super Kings&quot;</td><td>&quot;no result&quot;</td><td>1.0</td><td>43.0</td><td>5.0</td><td>&quot;N&quot;</td><td>&quot;D/L&quot;</td><td>&quot;A Deshmukh&quot;</td><td>&quot;A Deshmukh&quot;</td></tr><tr><td>&quot;25%&quot;</td><td>548332.0</td><td>null</td><td>null</td><td>null</td><td>null</td><td>null</td><td>null</td><td>null</td><td>null</td><td>null</td><td>null</td><td>null</td><td>null</td><td>6.0</td><td>146.0</td><td>20.0</td><td>null</td><td>null</td><td>null</td><td>null</td></tr><tr><td>&quot;50%&quot;</td><td>980961.0</td><td>null</td><td>null</td><td>null</td><td>null</td><td>null</td><td>null</td><td>null</td><td>null</td><td>null</td><td>null</td><td>null</td><td>null</td><td>8.0</td><td>166.0</td><td>20.0</td><td>null</td><td>null</td><td>null</td><td>null</td></tr><tr><td>&quot;75%&quot;</td><td>1.254063e6</td><td>null</td><td>null</td><td>null</td><td>null</td><td>null</td><td>null</td><td>null</td><td>null</td><td>null</td><td>null</td><td>null</td><td>null</td><td>20.0</td><td>187.0</td><td>20.0</td><td>null</td><td>null</td><td>null</td><td>null</td></tr><tr><td>&quot;max&quot;</td><td>1.426312e6</td><td>&quot;2024&quot;</td><td>&quot;Visakhapatnam&quot;</td><td>&quot;2024-05-26&quot;</td><td>&quot;Semi Final&quot;</td><td>&quot;Z Khan&quot;</td><td>&quot;Zayed Cricket Stadium, Abu Dha…</td><td>&quot;Sunrisers Hyderabad&quot;</td><td>&quot;Sunrisers Hyderabad&quot;</td><td>&quot;Sunrisers Hyderabad&quot;</td><td>&quot;field&quot;</td><td>&quot;Sunrisers Hyderabad&quot;</td><td>&quot;wickets&quot;</td><td>146.0</td><td>288.0</td><td>20.0</td><td>&quot;Y&quot;</td><td>&quot;D/L&quot;</td><td>&quot;YC Barde&quot;</td><td>&quot;YC Barde&quot;</td></tr></tbody></table></div>"
      ],
      "text/plain": [
       "shape: (9, 21)\n",
       "┌────────────┬────────────┬─────────┬────────────┬───┬────────────┬────────┬───────────┬───────────┐\n",
       "│ statistic  ┆ id         ┆ season  ┆ city       ┆ … ┆ super_over ┆ method ┆ umpire1   ┆ umpire2   │\n",
       "│ ---        ┆ ---        ┆ ---     ┆ ---        ┆   ┆ ---        ┆ ---    ┆ ---       ┆ ---       │\n",
       "│ str        ┆ f64        ┆ str     ┆ str        ┆   ┆ str        ┆ str    ┆ str       ┆ str       │\n",
       "╞════════════╪════════════╪═════════╪════════════╪═══╪════════════╪════════╪═══════════╪═══════════╡\n",
       "│ count      ┆ 1095.0     ┆ 1095    ┆ 1044       ┆ … ┆ 1095       ┆ 21     ┆ 1095      ┆ 1095      │\n",
       "│ null_count ┆ 0.0        ┆ 0       ┆ 51         ┆ … ┆ 0          ┆ 1074   ┆ 0         ┆ 0         │\n",
       "│ mean       ┆ 904828.319 ┆ null    ┆ null       ┆ … ┆ null       ┆ null   ┆ null      ┆ null      │\n",
       "│            ┆ 635        ┆         ┆            ┆   ┆            ┆        ┆           ┆           │\n",
       "│ std        ┆ 367740.242 ┆ null    ┆ null       ┆ … ┆ null       ┆ null   ┆ null      ┆ null      │\n",
       "│            ┆ 299        ┆         ┆            ┆   ┆            ┆        ┆           ┆           │\n",
       "│ min        ┆ 335982.0   ┆ 2007/08 ┆ Abu Dhabi  ┆ … ┆ N          ┆ D/L    ┆ A         ┆ A         │\n",
       "│            ┆            ┆         ┆            ┆   ┆            ┆        ┆ Deshmukh  ┆ Deshmukh  │\n",
       "│ 25%        ┆ 548332.0   ┆ null    ┆ null       ┆ … ┆ null       ┆ null   ┆ null      ┆ null      │\n",
       "│ 50%        ┆ 980961.0   ┆ null    ┆ null       ┆ … ┆ null       ┆ null   ┆ null      ┆ null      │\n",
       "│ 75%        ┆ 1.254063e6 ┆ null    ┆ null       ┆ … ┆ null       ┆ null   ┆ null      ┆ null      │\n",
       "│ max        ┆ 1.426312e6 ┆ 2024    ┆ Visakhapat ┆ … ┆ Y          ┆ D/L    ┆ YC Barde  ┆ YC Barde  │\n",
       "│            ┆            ┆         ┆ nam        ┆   ┆            ┆        ┆           ┆           │\n",
       "└────────────┴────────────┴─────────┴────────────┴───┴────────────┴────────┴───────────┴───────────┘"
      ]
     },
     "execution_count": 3,
     "metadata": {},
     "output_type": "execute_result"
    }
   ],
   "source": [
    "matches.describe()"
   ]
  },
  {
   "cell_type": "code",
   "execution_count": null,
   "metadata": {},
   "outputs": [],
   "source": []
  }
 ],
 "metadata": {
  "kernelspec": {
   "display_name": "eda",
   "language": "python",
   "name": "python3"
  },
  "language_info": {
   "codemirror_mode": {
    "name": "ipython",
    "version": 3
   },
   "file_extension": ".py",
   "mimetype": "text/x-python",
   "name": "python",
   "nbconvert_exporter": "python",
   "pygments_lexer": "ipython3",
   "version": "3.8.19"
  }
 },
 "nbformat": 4,
 "nbformat_minor": 2
}
