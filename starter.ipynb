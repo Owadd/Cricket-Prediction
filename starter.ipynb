{
 "cells": [
  {
   "cell_type": "code",
   "execution_count": 1,
   "metadata": {},
   "outputs": [],
   "source": [
    "import polars as pl\n",
    "import pandas as pd\n",
    "import matplotlib.pyplot as plt"
   ]
  },
  {
   "cell_type": "code",
   "execution_count": 9,
   "metadata": {},
   "outputs": [
    {
     "data": {
      "text/html": [
       "<div><style>\n",
       ".dataframe > thead > tr,\n",
       ".dataframe > tbody > tr {\n",
       "  text-align: right;\n",
       "  white-space: pre-wrap;\n",
       "}\n",
       "</style>\n",
       "<small>shape: (1_095, 20)</small><table border=\"1\" class=\"dataframe\"><thead><tr><th>id</th><th>season</th><th>city</th><th>date</th><th>match_type</th><th>player_of_match</th><th>venue</th><th>team1</th><th>team2</th><th>toss_winner</th><th>toss_decision</th><th>winner</th><th>result</th><th>result_margin</th><th>target_runs</th><th>target_overs</th><th>super_over</th><th>method</th><th>umpire1</th><th>umpire2</th></tr><tr><td>i64</td><td>str</td><td>str</td><td>str</td><td>str</td><td>str</td><td>str</td><td>str</td><td>str</td><td>str</td><td>str</td><td>str</td><td>str</td><td>i64</td><td>i64</td><td>f64</td><td>str</td><td>str</td><td>str</td><td>str</td></tr></thead><tbody><tr><td>335982</td><td>&quot;2007/08&quot;</td><td>&quot;Bangalore&quot;</td><td>&quot;2008-04-18&quot;</td><td>&quot;League&quot;</td><td>&quot;BB McCullum&quot;</td><td>&quot;M Chinnaswamy Stadium&quot;</td><td>&quot;Royal Challengers Bangalore&quot;</td><td>&quot;Kolkata Knight Riders&quot;</td><td>&quot;Royal Challengers Bangalore&quot;</td><td>&quot;field&quot;</td><td>&quot;Kolkata Knight Riders&quot;</td><td>&quot;runs&quot;</td><td>140</td><td>223</td><td>20.0</td><td>&quot;N&quot;</td><td>null</td><td>&quot;Asad Rauf&quot;</td><td>&quot;RE Koertzen&quot;</td></tr><tr><td>335983</td><td>&quot;2007/08&quot;</td><td>&quot;Chandigarh&quot;</td><td>&quot;2008-04-19&quot;</td><td>&quot;League&quot;</td><td>&quot;MEK Hussey&quot;</td><td>&quot;Punjab Cricket Association Sta…</td><td>&quot;Kings XI Punjab&quot;</td><td>&quot;Chennai Super Kings&quot;</td><td>&quot;Chennai Super Kings&quot;</td><td>&quot;bat&quot;</td><td>&quot;Chennai Super Kings&quot;</td><td>&quot;runs&quot;</td><td>33</td><td>241</td><td>20.0</td><td>&quot;N&quot;</td><td>null</td><td>&quot;MR Benson&quot;</td><td>&quot;SL Shastri&quot;</td></tr><tr><td>335984</td><td>&quot;2007/08&quot;</td><td>&quot;Delhi&quot;</td><td>&quot;2008-04-19&quot;</td><td>&quot;League&quot;</td><td>&quot;MF Maharoof&quot;</td><td>&quot;Feroz Shah Kotla&quot;</td><td>&quot;Delhi Daredevils&quot;</td><td>&quot;Rajasthan Royals&quot;</td><td>&quot;Rajasthan Royals&quot;</td><td>&quot;bat&quot;</td><td>&quot;Delhi Daredevils&quot;</td><td>&quot;wickets&quot;</td><td>9</td><td>130</td><td>20.0</td><td>&quot;N&quot;</td><td>null</td><td>&quot;Aleem Dar&quot;</td><td>&quot;GA Pratapkumar&quot;</td></tr><tr><td>335985</td><td>&quot;2007/08&quot;</td><td>&quot;Mumbai&quot;</td><td>&quot;2008-04-20&quot;</td><td>&quot;League&quot;</td><td>&quot;MV Boucher&quot;</td><td>&quot;Wankhede Stadium&quot;</td><td>&quot;Mumbai Indians&quot;</td><td>&quot;Royal Challengers Bangalore&quot;</td><td>&quot;Mumbai Indians&quot;</td><td>&quot;bat&quot;</td><td>&quot;Royal Challengers Bangalore&quot;</td><td>&quot;wickets&quot;</td><td>5</td><td>166</td><td>20.0</td><td>&quot;N&quot;</td><td>null</td><td>&quot;SJ Davis&quot;</td><td>&quot;DJ Harper&quot;</td></tr><tr><td>335986</td><td>&quot;2007/08&quot;</td><td>&quot;Kolkata&quot;</td><td>&quot;2008-04-20&quot;</td><td>&quot;League&quot;</td><td>&quot;DJ Hussey&quot;</td><td>&quot;Eden Gardens&quot;</td><td>&quot;Kolkata Knight Riders&quot;</td><td>&quot;Deccan Chargers&quot;</td><td>&quot;Deccan Chargers&quot;</td><td>&quot;bat&quot;</td><td>&quot;Kolkata Knight Riders&quot;</td><td>&quot;wickets&quot;</td><td>5</td><td>111</td><td>20.0</td><td>&quot;N&quot;</td><td>null</td><td>&quot;BF Bowden&quot;</td><td>&quot;K Hariharan&quot;</td></tr><tr><td>&hellip;</td><td>&hellip;</td><td>&hellip;</td><td>&hellip;</td><td>&hellip;</td><td>&hellip;</td><td>&hellip;</td><td>&hellip;</td><td>&hellip;</td><td>&hellip;</td><td>&hellip;</td><td>&hellip;</td><td>&hellip;</td><td>&hellip;</td><td>&hellip;</td><td>&hellip;</td><td>&hellip;</td><td>&hellip;</td><td>&hellip;</td><td>&hellip;</td></tr><tr><td>1426307</td><td>&quot;2024&quot;</td><td>&quot;Hyderabad&quot;</td><td>&quot;2024-05-19&quot;</td><td>&quot;League&quot;</td><td>&quot;Abhishek Sharma&quot;</td><td>&quot;Rajiv Gandhi International Sta…</td><td>&quot;Punjab Kings&quot;</td><td>&quot;Sunrisers Hyderabad&quot;</td><td>&quot;Punjab Kings&quot;</td><td>&quot;bat&quot;</td><td>&quot;Sunrisers Hyderabad&quot;</td><td>&quot;wickets&quot;</td><td>4</td><td>215</td><td>20.0</td><td>&quot;N&quot;</td><td>null</td><td>&quot;Nitin Menon&quot;</td><td>&quot;VK Sharma&quot;</td></tr><tr><td>1426309</td><td>&quot;2024&quot;</td><td>&quot;Ahmedabad&quot;</td><td>&quot;2024-05-21&quot;</td><td>&quot;Qualifier 1&quot;</td><td>&quot;MA Starc&quot;</td><td>&quot;Narendra Modi Stadium, Ahmedab…</td><td>&quot;Sunrisers Hyderabad&quot;</td><td>&quot;Kolkata Knight Riders&quot;</td><td>&quot;Sunrisers Hyderabad&quot;</td><td>&quot;bat&quot;</td><td>&quot;Kolkata Knight Riders&quot;</td><td>&quot;wickets&quot;</td><td>8</td><td>160</td><td>20.0</td><td>&quot;N&quot;</td><td>null</td><td>&quot;AK Chaudhary&quot;</td><td>&quot;R Pandit&quot;</td></tr><tr><td>1426310</td><td>&quot;2024&quot;</td><td>&quot;Ahmedabad&quot;</td><td>&quot;2024-05-22&quot;</td><td>&quot;Eliminator&quot;</td><td>&quot;R Ashwin&quot;</td><td>&quot;Narendra Modi Stadium, Ahmedab…</td><td>&quot;Royal Challengers Bengaluru&quot;</td><td>&quot;Rajasthan Royals&quot;</td><td>&quot;Rajasthan Royals&quot;</td><td>&quot;field&quot;</td><td>&quot;Rajasthan Royals&quot;</td><td>&quot;wickets&quot;</td><td>4</td><td>173</td><td>20.0</td><td>&quot;N&quot;</td><td>null</td><td>&quot;KN Ananthapadmanabhan&quot;</td><td>&quot;MV Saidharshan Kumar&quot;</td></tr><tr><td>1426311</td><td>&quot;2024&quot;</td><td>&quot;Chennai&quot;</td><td>&quot;2024-05-24&quot;</td><td>&quot;Qualifier 2&quot;</td><td>&quot;Shahbaz Ahmed&quot;</td><td>&quot;MA Chidambaram Stadium, Chepau…</td><td>&quot;Sunrisers Hyderabad&quot;</td><td>&quot;Rajasthan Royals&quot;</td><td>&quot;Rajasthan Royals&quot;</td><td>&quot;field&quot;</td><td>&quot;Sunrisers Hyderabad&quot;</td><td>&quot;runs&quot;</td><td>36</td><td>176</td><td>20.0</td><td>&quot;N&quot;</td><td>null</td><td>&quot;Nitin Menon&quot;</td><td>&quot;VK Sharma&quot;</td></tr><tr><td>1426312</td><td>&quot;2024&quot;</td><td>&quot;Chennai&quot;</td><td>&quot;2024-05-26&quot;</td><td>&quot;Final&quot;</td><td>&quot;MA Starc&quot;</td><td>&quot;MA Chidambaram Stadium, Chepau…</td><td>&quot;Sunrisers Hyderabad&quot;</td><td>&quot;Kolkata Knight Riders&quot;</td><td>&quot;Sunrisers Hyderabad&quot;</td><td>&quot;bat&quot;</td><td>&quot;Kolkata Knight Riders&quot;</td><td>&quot;wickets&quot;</td><td>8</td><td>114</td><td>20.0</td><td>&quot;N&quot;</td><td>null</td><td>&quot;J Madanagopal&quot;</td><td>&quot;Nitin Menon&quot;</td></tr></tbody></table></div>"
      ],
      "text/plain": [
       "shape: (1_095, 20)\n",
       "┌─────────┬─────────┬────────────┬────────────┬───┬────────────┬────────┬─────────────┬────────────┐\n",
       "│ id      ┆ season  ┆ city       ┆ date       ┆ … ┆ super_over ┆ method ┆ umpire1     ┆ umpire2    │\n",
       "│ ---     ┆ ---     ┆ ---        ┆ ---        ┆   ┆ ---        ┆ ---    ┆ ---         ┆ ---        │\n",
       "│ i64     ┆ str     ┆ str        ┆ str        ┆   ┆ str        ┆ str    ┆ str         ┆ str        │\n",
       "╞═════════╪═════════╪════════════╪════════════╪═══╪════════════╪════════╪═════════════╪════════════╡\n",
       "│ 335982  ┆ 2007/08 ┆ Bangalore  ┆ 2008-04-18 ┆ … ┆ N          ┆ null   ┆ Asad Rauf   ┆ RE         │\n",
       "│         ┆         ┆            ┆            ┆   ┆            ┆        ┆             ┆ Koertzen   │\n",
       "│ 335983  ┆ 2007/08 ┆ Chandigarh ┆ 2008-04-19 ┆ … ┆ N          ┆ null   ┆ MR Benson   ┆ SL Shastri │\n",
       "│ 335984  ┆ 2007/08 ┆ Delhi      ┆ 2008-04-19 ┆ … ┆ N          ┆ null   ┆ Aleem Dar   ┆ GA Pratapk │\n",
       "│         ┆         ┆            ┆            ┆   ┆            ┆        ┆             ┆ umar       │\n",
       "│ 335985  ┆ 2007/08 ┆ Mumbai     ┆ 2008-04-20 ┆ … ┆ N          ┆ null   ┆ SJ Davis    ┆ DJ Harper  │\n",
       "│ 335986  ┆ 2007/08 ┆ Kolkata    ┆ 2008-04-20 ┆ … ┆ N          ┆ null   ┆ BF Bowden   ┆ K          │\n",
       "│         ┆         ┆            ┆            ┆   ┆            ┆        ┆             ┆ Hariharan  │\n",
       "│ …       ┆ …       ┆ …          ┆ …          ┆ … ┆ …          ┆ …      ┆ …           ┆ …          │\n",
       "│ 1426307 ┆ 2024    ┆ Hyderabad  ┆ 2024-05-19 ┆ … ┆ N          ┆ null   ┆ Nitin Menon ┆ VK Sharma  │\n",
       "│ 1426309 ┆ 2024    ┆ Ahmedabad  ┆ 2024-05-21 ┆ … ┆ N          ┆ null   ┆ AK          ┆ R Pandit   │\n",
       "│         ┆         ┆            ┆            ┆   ┆            ┆        ┆ Chaudhary   ┆            │\n",
       "│ 1426310 ┆ 2024    ┆ Ahmedabad  ┆ 2024-05-22 ┆ … ┆ N          ┆ null   ┆ KN Ananthap ┆ MV Saidhar │\n",
       "│         ┆         ┆            ┆            ┆   ┆            ┆        ┆ admanabhan  ┆ shan Kumar │\n",
       "│ 1426311 ┆ 2024    ┆ Chennai    ┆ 2024-05-24 ┆ … ┆ N          ┆ null   ┆ Nitin Menon ┆ VK Sharma  │\n",
       "│ 1426312 ┆ 2024    ┆ Chennai    ┆ 2024-05-26 ┆ … ┆ N          ┆ null   ┆ J           ┆ Nitin      │\n",
       "│         ┆         ┆            ┆            ┆   ┆            ┆        ┆ Madanagopal ┆ Menon      │\n",
       "└─────────┴─────────┴────────────┴────────────┴───┴────────────┴────────┴─────────────┴────────────┘"
      ]
     },
     "execution_count": 9,
     "metadata": {},
     "output_type": "execute_result"
    }
   ],
   "source": [
    "matches = pl.read_csv('./data/matches.csv',null_values=\"NA\")\n",
    "matches"
   ]
  },
  {
   "cell_type": "code",
   "execution_count": 3,
   "metadata": {},
   "outputs": [
    {
     "data": {
      "text/html": [
       "<div><style>\n",
       ".dataframe > thead > tr,\n",
       ".dataframe > tbody > tr {\n",
       "  text-align: right;\n",
       "  white-space: pre-wrap;\n",
       "}\n",
       "</style>\n",
       "<small>shape: (260_920, 17)</small><table border=\"1\" class=\"dataframe\"><thead><tr><th>match_id</th><th>inning</th><th>batting_team</th><th>bowling_team</th><th>over</th><th>ball</th><th>batter</th><th>bowler</th><th>non_striker</th><th>batsman_runs</th><th>extra_runs</th><th>total_runs</th><th>extras_type</th><th>is_wicket</th><th>player_dismissed</th><th>dismissal_kind</th><th>fielder</th></tr><tr><td>i64</td><td>i64</td><td>str</td><td>str</td><td>i64</td><td>i64</td><td>str</td><td>str</td><td>str</td><td>i64</td><td>i64</td><td>i64</td><td>str</td><td>i64</td><td>str</td><td>str</td><td>str</td></tr></thead><tbody><tr><td>335982</td><td>1</td><td>&quot;Kolkata Knight Riders&quot;</td><td>&quot;Royal Challengers Bangalore&quot;</td><td>0</td><td>1</td><td>&quot;SC Ganguly&quot;</td><td>&quot;P Kumar&quot;</td><td>&quot;BB McCullum&quot;</td><td>0</td><td>1</td><td>1</td><td>&quot;legbyes&quot;</td><td>0</td><td>null</td><td>null</td><td>null</td></tr><tr><td>335982</td><td>1</td><td>&quot;Kolkata Knight Riders&quot;</td><td>&quot;Royal Challengers Bangalore&quot;</td><td>0</td><td>2</td><td>&quot;BB McCullum&quot;</td><td>&quot;P Kumar&quot;</td><td>&quot;SC Ganguly&quot;</td><td>0</td><td>0</td><td>0</td><td>null</td><td>0</td><td>null</td><td>null</td><td>null</td></tr><tr><td>335982</td><td>1</td><td>&quot;Kolkata Knight Riders&quot;</td><td>&quot;Royal Challengers Bangalore&quot;</td><td>0</td><td>3</td><td>&quot;BB McCullum&quot;</td><td>&quot;P Kumar&quot;</td><td>&quot;SC Ganguly&quot;</td><td>0</td><td>1</td><td>1</td><td>&quot;wides&quot;</td><td>0</td><td>null</td><td>null</td><td>null</td></tr><tr><td>335982</td><td>1</td><td>&quot;Kolkata Knight Riders&quot;</td><td>&quot;Royal Challengers Bangalore&quot;</td><td>0</td><td>4</td><td>&quot;BB McCullum&quot;</td><td>&quot;P Kumar&quot;</td><td>&quot;SC Ganguly&quot;</td><td>0</td><td>0</td><td>0</td><td>null</td><td>0</td><td>null</td><td>null</td><td>null</td></tr><tr><td>335982</td><td>1</td><td>&quot;Kolkata Knight Riders&quot;</td><td>&quot;Royal Challengers Bangalore&quot;</td><td>0</td><td>5</td><td>&quot;BB McCullum&quot;</td><td>&quot;P Kumar&quot;</td><td>&quot;SC Ganguly&quot;</td><td>0</td><td>0</td><td>0</td><td>null</td><td>0</td><td>null</td><td>null</td><td>null</td></tr><tr><td>&hellip;</td><td>&hellip;</td><td>&hellip;</td><td>&hellip;</td><td>&hellip;</td><td>&hellip;</td><td>&hellip;</td><td>&hellip;</td><td>&hellip;</td><td>&hellip;</td><td>&hellip;</td><td>&hellip;</td><td>&hellip;</td><td>&hellip;</td><td>&hellip;</td><td>&hellip;</td><td>&hellip;</td></tr><tr><td>1426312</td><td>2</td><td>&quot;Kolkata Knight Riders&quot;</td><td>&quot;Sunrisers Hyderabad&quot;</td><td>9</td><td>5</td><td>&quot;SS Iyer&quot;</td><td>&quot;AK Markram&quot;</td><td>&quot;VR Iyer&quot;</td><td>1</td><td>0</td><td>1</td><td>null</td><td>0</td><td>null</td><td>null</td><td>null</td></tr><tr><td>1426312</td><td>2</td><td>&quot;Kolkata Knight Riders&quot;</td><td>&quot;Sunrisers Hyderabad&quot;</td><td>9</td><td>6</td><td>&quot;VR Iyer&quot;</td><td>&quot;AK Markram&quot;</td><td>&quot;SS Iyer&quot;</td><td>1</td><td>0</td><td>1</td><td>null</td><td>0</td><td>null</td><td>null</td><td>null</td></tr><tr><td>1426312</td><td>2</td><td>&quot;Kolkata Knight Riders&quot;</td><td>&quot;Sunrisers Hyderabad&quot;</td><td>10</td><td>1</td><td>&quot;VR Iyer&quot;</td><td>&quot;Shahbaz Ahmed&quot;</td><td>&quot;SS Iyer&quot;</td><td>1</td><td>0</td><td>1</td><td>null</td><td>0</td><td>null</td><td>null</td><td>null</td></tr><tr><td>1426312</td><td>2</td><td>&quot;Kolkata Knight Riders&quot;</td><td>&quot;Sunrisers Hyderabad&quot;</td><td>10</td><td>2</td><td>&quot;SS Iyer&quot;</td><td>&quot;Shahbaz Ahmed&quot;</td><td>&quot;VR Iyer&quot;</td><td>1</td><td>0</td><td>1</td><td>null</td><td>0</td><td>null</td><td>null</td><td>null</td></tr><tr><td>1426312</td><td>2</td><td>&quot;Kolkata Knight Riders&quot;</td><td>&quot;Sunrisers Hyderabad&quot;</td><td>10</td><td>3</td><td>&quot;VR Iyer&quot;</td><td>&quot;Shahbaz Ahmed&quot;</td><td>&quot;SS Iyer&quot;</td><td>1</td><td>0</td><td>1</td><td>null</td><td>0</td><td>null</td><td>null</td><td>null</td></tr></tbody></table></div>"
      ],
      "text/plain": [
       "shape: (260_920, 17)\n",
       "┌──────────┬────────┬─────────────┬────────────┬───┬───────────┬────────────┬────────────┬─────────┐\n",
       "│ match_id ┆ inning ┆ batting_tea ┆ bowling_te ┆ … ┆ is_wicket ┆ player_dis ┆ dismissal_ ┆ fielder │\n",
       "│ ---      ┆ ---    ┆ m           ┆ am         ┆   ┆ ---       ┆ missed     ┆ kind       ┆ ---     │\n",
       "│ i64      ┆ i64    ┆ ---         ┆ ---        ┆   ┆ i64       ┆ ---        ┆ ---        ┆ str     │\n",
       "│          ┆        ┆ str         ┆ str        ┆   ┆           ┆ str        ┆ str        ┆         │\n",
       "╞══════════╪════════╪═════════════╪════════════╪═══╪═══════════╪════════════╪════════════╪═════════╡\n",
       "│ 335982   ┆ 1      ┆ Kolkata     ┆ Royal Chal ┆ … ┆ 0         ┆ null       ┆ null       ┆ null    │\n",
       "│          ┆        ┆ Knight      ┆ lengers    ┆   ┆           ┆            ┆            ┆         │\n",
       "│          ┆        ┆ Riders      ┆ Bangalore  ┆   ┆           ┆            ┆            ┆         │\n",
       "│ 335982   ┆ 1      ┆ Kolkata     ┆ Royal Chal ┆ … ┆ 0         ┆ null       ┆ null       ┆ null    │\n",
       "│          ┆        ┆ Knight      ┆ lengers    ┆   ┆           ┆            ┆            ┆         │\n",
       "│          ┆        ┆ Riders      ┆ Bangalore  ┆   ┆           ┆            ┆            ┆         │\n",
       "│ 335982   ┆ 1      ┆ Kolkata     ┆ Royal Chal ┆ … ┆ 0         ┆ null       ┆ null       ┆ null    │\n",
       "│          ┆        ┆ Knight      ┆ lengers    ┆   ┆           ┆            ┆            ┆         │\n",
       "│          ┆        ┆ Riders      ┆ Bangalore  ┆   ┆           ┆            ┆            ┆         │\n",
       "│ 335982   ┆ 1      ┆ Kolkata     ┆ Royal Chal ┆ … ┆ 0         ┆ null       ┆ null       ┆ null    │\n",
       "│          ┆        ┆ Knight      ┆ lengers    ┆   ┆           ┆            ┆            ┆         │\n",
       "│          ┆        ┆ Riders      ┆ Bangalore  ┆   ┆           ┆            ┆            ┆         │\n",
       "│ 335982   ┆ 1      ┆ Kolkata     ┆ Royal Chal ┆ … ┆ 0         ┆ null       ┆ null       ┆ null    │\n",
       "│          ┆        ┆ Knight      ┆ lengers    ┆   ┆           ┆            ┆            ┆         │\n",
       "│          ┆        ┆ Riders      ┆ Bangalore  ┆   ┆           ┆            ┆            ┆         │\n",
       "│ …        ┆ …      ┆ …           ┆ …          ┆ … ┆ …         ┆ …          ┆ …          ┆ …       │\n",
       "│ 1426312  ┆ 2      ┆ Kolkata     ┆ Sunrisers  ┆ … ┆ 0         ┆ null       ┆ null       ┆ null    │\n",
       "│          ┆        ┆ Knight      ┆ Hyderabad  ┆   ┆           ┆            ┆            ┆         │\n",
       "│          ┆        ┆ Riders      ┆            ┆   ┆           ┆            ┆            ┆         │\n",
       "│ 1426312  ┆ 2      ┆ Kolkata     ┆ Sunrisers  ┆ … ┆ 0         ┆ null       ┆ null       ┆ null    │\n",
       "│          ┆        ┆ Knight      ┆ Hyderabad  ┆   ┆           ┆            ┆            ┆         │\n",
       "│          ┆        ┆ Riders      ┆            ┆   ┆           ┆            ┆            ┆         │\n",
       "│ 1426312  ┆ 2      ┆ Kolkata     ┆ Sunrisers  ┆ … ┆ 0         ┆ null       ┆ null       ┆ null    │\n",
       "│          ┆        ┆ Knight      ┆ Hyderabad  ┆   ┆           ┆            ┆            ┆         │\n",
       "│          ┆        ┆ Riders      ┆            ┆   ┆           ┆            ┆            ┆         │\n",
       "│ 1426312  ┆ 2      ┆ Kolkata     ┆ Sunrisers  ┆ … ┆ 0         ┆ null       ┆ null       ┆ null    │\n",
       "│          ┆        ┆ Knight      ┆ Hyderabad  ┆   ┆           ┆            ┆            ┆         │\n",
       "│          ┆        ┆ Riders      ┆            ┆   ┆           ┆            ┆            ┆         │\n",
       "│ 1426312  ┆ 2      ┆ Kolkata     ┆ Sunrisers  ┆ … ┆ 0         ┆ null       ┆ null       ┆ null    │\n",
       "│          ┆        ┆ Knight      ┆ Hyderabad  ┆   ┆           ┆            ┆            ┆         │\n",
       "│          ┆        ┆ Riders      ┆            ┆   ┆           ┆            ┆            ┆         │\n",
       "└──────────┴────────┴─────────────┴────────────┴───┴───────────┴────────────┴────────────┴─────────┘"
      ]
     },
     "execution_count": 3,
     "metadata": {},
     "output_type": "execute_result"
    }
   ],
   "source": [
    "deliveries = pl.read_csv('./data/deliveries.csv',null_values=\"NA\")\n",
    "deliveries"
   ]
  },
  {
   "cell_type": "code",
   "execution_count": null,
   "metadata": {},
   "outputs": [],
   "source": []
  }
 ],
 "metadata": {
  "kernelspec": {
   "display_name": "eda",
   "language": "python",
   "name": "python3"
  },
  "language_info": {
   "codemirror_mode": {
    "name": "ipython",
    "version": 3
   },
   "file_extension": ".py",
   "mimetype": "text/x-python",
   "name": "python",
   "nbconvert_exporter": "python",
   "pygments_lexer": "ipython3",
   "version": "3.8.19"
  }
 },
 "nbformat": 4,
 "nbformat_minor": 2
}
